{
 "cells": [
  {
   "cell_type": "markdown",
   "id": "3dbc1248",
   "metadata": {},
   "source": [
    "# Natural Disaster Tweets Dataset"
   ]
  },
  {
   "cell_type": "markdown",
   "id": "ac3d11bf",
   "metadata": {},
   "source": [
    "Source: https://www.kaggle.com/competitions/nlp-getting-started/data\n",
    "Dataset : This data includes around 7614 data trained tweets which are classified. Although there is so much missing data in both \"keyword\" and \"location\" columns , the \"text\" column seems to have no missing values and this is our important focus as well. \n",
    "In the coming sections I will try to understand if there is any duplicate or how much % missing is affecting the train data.\n",
    "\n",
    "Test data has around 3260 data points. We will start the use case by first importing the required libraries and files and start exploring training data."
   ]
  },
  {
   "cell_type": "code",
   "execution_count": 1,
   "id": "90a31830",
   "metadata": {},
   "outputs": [],
   "source": [
    "# import the libraries\n",
    "import pandas as pd\n",
    "%matplotlib inline\n",
    "import matplotlib.pyplot as plt\n",
    "import seaborn as sns\n",
    "import numpy as np\n",
    "import re, string\n",
    "import nltk\n",
    "import spacy\n",
    "import en_core_web_sm\n",
    "\n",
    "from nltk.corpus import stopwords\n",
    "from nltk.stem import PorterStemmer\n",
    "\n",
    "ps = PorterStemmer()\n",
    "\n",
    "# import wordcloud\n",
    "from wordcloud import WordCloud\n",
    "\n",
    "from textblob import TextBlob\n",
    "\n",
    "from spellchecker import SpellChecker\n",
    "from sklearn.feature_extraction.text import TfidfVectorizer\n",
    "\n",
    "from sklearn.linear_model import LogisticRegression\n",
    "from sklearn.naive_bayes import MultinomialNB\n",
    "from sklearn.model_selection import GridSearchCV,ShuffleSplit,cross_val_score\n",
    "from sklearn.ensemble import RandomForestClassifier\n",
    "from sklearn.metrics import confusion_matrix,accuracy_score,precision_score\n",
    "from sklearn.metrics import classification_report\n",
    "from sklearn.svm import SVC\n",
    "from sklearn.tree import DecisionTreeClassifier\n",
    "from sklearn.neighbors import KNeighborsClassifier\n",
    "from sklearn.ensemble import GradientBoostingClassifier\n",
    "from sklearn.linear_model import SGDClassifier\n",
    "\n",
    "from sklearn.decomposition import NMF, LatentDirichletAllocation\n",
    "from stop_words import safe_get_stop_words\n",
    "from stop_words import get_stop_words\n",
    "from textblob import TextBlob\n",
    "\n",
    "import warnings\n",
    "warnings.filterwarnings(\"ignore\")\n",
    "\n",
    "# from pandas_profiling import ProfileReport"
   ]
  },
  {
   "cell_type": "code",
   "execution_count": 7,
   "id": "854d216d",
   "metadata": {},
   "outputs": [],
   "source": [
    "# pip install pyspellchecker\n",
    "# pip install spacy\n",
    "#pip install stopwords\n",
    "#pip install PorterStemmer\n",
    "#pip install TextBlob\n",
    "# !pip install spacy\n",
    "# !pip3 install https://github.com/explosion/spacy-models/releases/download/en_core_web_sm-2.2.0/en_core_web_sm-2.2.0.tar.gz\n",
    "# !pip install spacy==2.3.5\n",
    "# !pip install https://github.com/explosion/spacy-models/releases/download/en_core_web_sm-2.3.1/en_core_web_sm-2.3.1.tar.gz \n",
    "# !pip install pyreparser\n",
    "# !pip install stop_words\n",
    "# !pip install keras\n",
    "# !pip install tensorflow"
   ]
  },
  {
   "cell_type": "markdown",
   "id": "40583cab",
   "metadata": {},
   "source": [
    "First, we will check the data format, shape, missing data and for duplicates. Loading the files."
   ]
  },
  {
   "cell_type": "code",
   "execution_count": 213,
   "id": "6ffc759e",
   "metadata": {},
   "outputs": [],
   "source": [
    "# import the files as pandas dataframe\n",
    "directory = \"D:\"\n",
    "sample_df = pd.read_csv(directory+'/Canada_statistics/sample_submission.csv')\n",
    "train_df = pd.read_csv(directory+'/Canada_statistics/train.csv')\n",
    "test_df = pd.read_csv(directory+'/Canada_statistics/test.csv')"
   ]
  },
  {
   "cell_type": "code",
   "execution_count": 3,
   "id": "2d44f46d",
   "metadata": {
    "scrolled": false
   },
   "outputs": [
    {
     "data": {
      "text/html": [
       "<div>\n",
       "<style scoped>\n",
       "    .dataframe tbody tr th:only-of-type {\n",
       "        vertical-align: middle;\n",
       "    }\n",
       "\n",
       "    .dataframe tbody tr th {\n",
       "        vertical-align: top;\n",
       "    }\n",
       "\n",
       "    .dataframe thead th {\n",
       "        text-align: right;\n",
       "    }\n",
       "</style>\n",
       "<table border=\"1\" class=\"dataframe\">\n",
       "  <thead>\n",
       "    <tr style=\"text-align: right;\">\n",
       "      <th></th>\n",
       "      <th>id</th>\n",
       "      <th>keyword</th>\n",
       "      <th>location</th>\n",
       "      <th>text</th>\n",
       "      <th>target</th>\n",
       "    </tr>\n",
       "  </thead>\n",
       "  <tbody>\n",
       "    <tr>\n",
       "      <th>0</th>\n",
       "      <td>1</td>\n",
       "      <td>NaN</td>\n",
       "      <td>NaN</td>\n",
       "      <td>Our Deeds are the Reason of this #earthquake M...</td>\n",
       "      <td>1</td>\n",
       "    </tr>\n",
       "    <tr>\n",
       "      <th>1</th>\n",
       "      <td>4</td>\n",
       "      <td>NaN</td>\n",
       "      <td>NaN</td>\n",
       "      <td>Forest fire near La Ronge Sask. Canada</td>\n",
       "      <td>1</td>\n",
       "    </tr>\n",
       "    <tr>\n",
       "      <th>2</th>\n",
       "      <td>5</td>\n",
       "      <td>NaN</td>\n",
       "      <td>NaN</td>\n",
       "      <td>All residents asked to 'shelter in place' are ...</td>\n",
       "      <td>1</td>\n",
       "    </tr>\n",
       "    <tr>\n",
       "      <th>3</th>\n",
       "      <td>6</td>\n",
       "      <td>NaN</td>\n",
       "      <td>NaN</td>\n",
       "      <td>13,000 people receive #wildfires evacuation or...</td>\n",
       "      <td>1</td>\n",
       "    </tr>\n",
       "    <tr>\n",
       "      <th>4</th>\n",
       "      <td>7</td>\n",
       "      <td>NaN</td>\n",
       "      <td>NaN</td>\n",
       "      <td>Just got sent this photo from Ruby #Alaska as ...</td>\n",
       "      <td>1</td>\n",
       "    </tr>\n",
       "  </tbody>\n",
       "</table>\n",
       "</div>"
      ],
      "text/plain": [
       "   id keyword location                                               text  \\\n",
       "0   1     NaN      NaN  Our Deeds are the Reason of this #earthquake M...   \n",
       "1   4     NaN      NaN             Forest fire near La Ronge Sask. Canada   \n",
       "2   5     NaN      NaN  All residents asked to 'shelter in place' are ...   \n",
       "3   6     NaN      NaN  13,000 people receive #wildfires evacuation or...   \n",
       "4   7     NaN      NaN  Just got sent this photo from Ruby #Alaska as ...   \n",
       "\n",
       "   target  \n",
       "0       1  \n",
       "1       1  \n",
       "2       1  \n",
       "3       1  \n",
       "4       1  "
      ]
     },
     "metadata": {},
     "output_type": "display_data"
    },
    {
     "data": {
      "text/plain": [
       "(7613, 5)"
      ]
     },
     "metadata": {},
     "output_type": "display_data"
    },
    {
     "data": {
      "text/html": [
       "<div>\n",
       "<style scoped>\n",
       "    .dataframe tbody tr th:only-of-type {\n",
       "        vertical-align: middle;\n",
       "    }\n",
       "\n",
       "    .dataframe tbody tr th {\n",
       "        vertical-align: top;\n",
       "    }\n",
       "\n",
       "    .dataframe thead th {\n",
       "        text-align: right;\n",
       "    }\n",
       "</style>\n",
       "<table border=\"1\" class=\"dataframe\">\n",
       "  <thead>\n",
       "    <tr style=\"text-align: right;\">\n",
       "      <th></th>\n",
       "      <th>id</th>\n",
       "      <th>keyword</th>\n",
       "      <th>location</th>\n",
       "      <th>text</th>\n",
       "    </tr>\n",
       "  </thead>\n",
       "  <tbody>\n",
       "    <tr>\n",
       "      <th>0</th>\n",
       "      <td>0</td>\n",
       "      <td>NaN</td>\n",
       "      <td>NaN</td>\n",
       "      <td>Just happened a terrible car crash</td>\n",
       "    </tr>\n",
       "    <tr>\n",
       "      <th>1</th>\n",
       "      <td>2</td>\n",
       "      <td>NaN</td>\n",
       "      <td>NaN</td>\n",
       "      <td>Heard about #earthquake is different cities, s...</td>\n",
       "    </tr>\n",
       "    <tr>\n",
       "      <th>2</th>\n",
       "      <td>3</td>\n",
       "      <td>NaN</td>\n",
       "      <td>NaN</td>\n",
       "      <td>there is a forest fire at spot pond, geese are...</td>\n",
       "    </tr>\n",
       "    <tr>\n",
       "      <th>3</th>\n",
       "      <td>9</td>\n",
       "      <td>NaN</td>\n",
       "      <td>NaN</td>\n",
       "      <td>Apocalypse lighting. #Spokane #wildfires</td>\n",
       "    </tr>\n",
       "    <tr>\n",
       "      <th>4</th>\n",
       "      <td>11</td>\n",
       "      <td>NaN</td>\n",
       "      <td>NaN</td>\n",
       "      <td>Typhoon Soudelor kills 28 in China and Taiwan</td>\n",
       "    </tr>\n",
       "  </tbody>\n",
       "</table>\n",
       "</div>"
      ],
      "text/plain": [
       "   id keyword location                                               text\n",
       "0   0     NaN      NaN                 Just happened a terrible car crash\n",
       "1   2     NaN      NaN  Heard about #earthquake is different cities, s...\n",
       "2   3     NaN      NaN  there is a forest fire at spot pond, geese are...\n",
       "3   9     NaN      NaN           Apocalypse lighting. #Spokane #wildfires\n",
       "4  11     NaN      NaN      Typhoon Soudelor kills 28 in China and Taiwan"
      ]
     },
     "metadata": {},
     "output_type": "display_data"
    },
    {
     "data": {
      "text/plain": [
       "(3263, 4)"
      ]
     },
     "metadata": {},
     "output_type": "display_data"
    },
    {
     "data": {
      "text/html": [
       "<div>\n",
       "<style scoped>\n",
       "    .dataframe tbody tr th:only-of-type {\n",
       "        vertical-align: middle;\n",
       "    }\n",
       "\n",
       "    .dataframe tbody tr th {\n",
       "        vertical-align: top;\n",
       "    }\n",
       "\n",
       "    .dataframe thead th {\n",
       "        text-align: right;\n",
       "    }\n",
       "</style>\n",
       "<table border=\"1\" class=\"dataframe\">\n",
       "  <thead>\n",
       "    <tr style=\"text-align: right;\">\n",
       "      <th></th>\n",
       "      <th>id</th>\n",
       "      <th>target</th>\n",
       "    </tr>\n",
       "  </thead>\n",
       "  <tbody>\n",
       "    <tr>\n",
       "      <th>0</th>\n",
       "      <td>0</td>\n",
       "      <td>0</td>\n",
       "    </tr>\n",
       "    <tr>\n",
       "      <th>1</th>\n",
       "      <td>2</td>\n",
       "      <td>0</td>\n",
       "    </tr>\n",
       "    <tr>\n",
       "      <th>2</th>\n",
       "      <td>3</td>\n",
       "      <td>0</td>\n",
       "    </tr>\n",
       "    <tr>\n",
       "      <th>3</th>\n",
       "      <td>9</td>\n",
       "      <td>0</td>\n",
       "    </tr>\n",
       "    <tr>\n",
       "      <th>4</th>\n",
       "      <td>11</td>\n",
       "      <td>0</td>\n",
       "    </tr>\n",
       "  </tbody>\n",
       "</table>\n",
       "</div>"
      ],
      "text/plain": [
       "   id  target\n",
       "0   0       0\n",
       "1   2       0\n",
       "2   3       0\n",
       "3   9       0\n",
       "4  11       0"
      ]
     },
     "metadata": {},
     "output_type": "display_data"
    },
    {
     "data": {
      "text/plain": [
       "(3263, 2)"
      ]
     },
     "metadata": {},
     "output_type": "display_data"
    }
   ],
   "source": [
    "#check the shape and format of the training sample set \n",
    "display(train_df.head())\n",
    "display(train_df.shape)\n",
    "\n",
    "#check the shape and format of the test sample set \n",
    "display(test_df.head())\n",
    "display(test_df.shape)\n",
    "\n",
    "#check the shape and format of sample submission\n",
    "display(sample_df.head())\n",
    "display(sample_df.shape)"
   ]
  },
  {
   "cell_type": "code",
   "execution_count": 4,
   "id": "08e8b34f",
   "metadata": {},
   "outputs": [
    {
     "data": {
      "text/plain": [
       "id             0\n",
       "keyword       61\n",
       "location    2533\n",
       "text           0\n",
       "target         0\n",
       "dtype: int64"
      ]
     },
     "metadata": {},
     "output_type": "display_data"
    },
    {
     "data": {
      "text/plain": [
       "0"
      ]
     },
     "metadata": {},
     "output_type": "display_data"
    }
   ],
   "source": [
    "# check the missing data\n",
    "display(train_df.isnull().sum())\n",
    "\n",
    "#check the duplicate data \n",
    "display(train_df.duplicated().sum())"
   ]
  },
  {
   "cell_type": "code",
   "execution_count": 5,
   "id": "43eddadc",
   "metadata": {},
   "outputs": [
    {
     "data": {
      "text/plain": [
       "id             0\n",
       "keyword       26\n",
       "location    1105\n",
       "text           0\n",
       "dtype: int64"
      ]
     },
     "metadata": {},
     "output_type": "display_data"
    },
    {
     "data": {
      "text/plain": [
       "0"
      ]
     },
     "metadata": {},
     "output_type": "display_data"
    }
   ],
   "source": [
    "# check the missing data\n",
    "display(test_df.isnull().sum())\n",
    "\n",
    "#check the duplicate data \n",
    "display(test_df.duplicated().sum())"
   ]
  },
  {
   "cell_type": "markdown",
   "id": "f35b0e2a",
   "metadata": {},
   "source": [
    "|File Name||# of missing values (column)||# duplicated values (column)|\n",
    "|:-:||:-:||:-:|\n",
    "|sample_submission||0||0|\n",
    "|train||61 (keyword), 2533 (location)||0|\n",
    "|test||26 (keyword), 1105 (location)||0|\n",
    "\n",
    "- Missing values were found only in 'keyword' and 'location' columns of the train and test datasets. No duplicated values were found."
   ]
  },
  {
   "cell_type": "code",
   "execution_count": 6,
   "id": "1ea74ee2",
   "metadata": {},
   "outputs": [],
   "source": [
    "# pip install -U pandas-profiling\n",
    "#prof = ProfileReport(df)\n",
    "#prof.to_file(output_file='output.html')\n",
    "#We can use pandas profiling if in case we have much more numeric data for our data sets, if time permits i would like to see \n",
    "#if time permits if we can add more external data features from open source CPC centers or current national weather services based on the location"
   ]
  },
  {
   "cell_type": "code",
   "execution_count": 8,
   "id": "35ec9f18",
   "metadata": {},
   "outputs": [
    {
     "data": {
      "text/plain": [
       "0    4342\n",
       "1    3271\n",
       "Name: target, dtype: int64"
      ]
     },
     "execution_count": 8,
     "metadata": {},
     "output_type": "execute_result"
    }
   ],
   "source": [
    "train_df['target'].value_counts()"
   ]
  },
  {
   "cell_type": "code",
   "execution_count": 9,
   "id": "4d041bd0",
   "metadata": {},
   "outputs": [
    {
     "data": {
      "image/png": "[encoded data removed]",
      "text/plain": [
       "<Figure size 432x288 with 1 Axes>"
      ]
     },
     "metadata": {},
     "output_type": "display_data"
    }
   ],
   "source": [
    "# define Seaborn color palette to use\n",
    "palette_color = sns.color_palette('bright')\n",
    "  \n",
    "# plotting data on chart\n",
    "plt.pie(train_df['target'].value_counts(), labels=[\"Non-disaster\", \"Disaster\"], colors=palette_color, autopct='%.0f%%')\n",
    "  \n",
    "# displaying chart\n",
    "plt.show()"
   ]
  },
  {
   "cell_type": "markdown",
   "id": "0d3072ee",
   "metadata": {},
   "source": [
    "### TASK 1 - Bag of words model\n",
    "☐ You will build a bag of words model. \n",
    "☐ Perform all of the pre-processing of the dataset to prepare it for a bag of words model. \n",
    "Explain all of your choices around pre-processing. \n",
    "☐ Train the model and provide plots on the evaluation"
   ]
  },
  {
   "cell_type": "markdown",
   "id": "084eacbd",
   "metadata": {},
   "source": [
    "#### <a id=\"preprocess1\">🧾 Text Preprocessing - Part I</a>\n",
    "Lets start pre processing our text by removing the unecessary text parts from our textual data , we can use these same from the test data perspective as well, I am trying to put in the below functions based on PEP standards and are re usable in many ways for other use cases which involves text processing as well.\n",
    "1. Convert text to lowercase\n",
    "2. tokenization\n",
    "3. remove stopwords\n",
    "4. remove punctuation\n",
    "5. stemming\n",
    "6. Remove URLs, HTML Tags\n",
    "7. Removing character references\n",
    "8. Remove non printable characters\n",
    "9. Remove numeric values"
   ]
  },
  {
   "cell_type": "code",
   "execution_count": 10,
   "id": "5eba16f6",
   "metadata": {},
   "outputs": [],
   "source": [
    "# Function for the first 4 activities as mentioned in the above cell.\n",
    "import re\n",
    "\n",
    "def text_preprocessing(text): \n",
    "    # Convert text into lowercase\n",
    "    text = text.lower()\n",
    "    \n",
    "    # remove url links from the text\n",
    "    text = re.sub(r'''(?i)\\b((?:https?://|www\\d{0,3}[.]|[a-z0-9.\\-]+[.][a-z]{2,4}/)(?:[^\\s()<>]+|\\(([^\\s()<>]+|(\\([^\\s()<>]+\\)))*\\))+(?:\\(([^\\s()<>]+|(\\([^\\s()<>]+\\)))*\\)|[^\\s`!()\\[\\]{};:'\".,<>?«»“”‘’]))''', \" \", text)\n",
    "    \n",
    "    # Tokenize text into list\n",
    "    tokenize_text = nltk.word_tokenize(text)\n",
    "    \n",
    "    # remove Stopwords\n",
    "    text_without_stopwords = [i for i in tokenize_text if i not in stopwords.words('english')]\n",
    "    \n",
    "    # Remove Punctuation\n",
    "    text_without_punc = [i for i in text_without_stopwords if i not in string.punctuation]\n",
    "    \n",
    "    # fetch only alphanumeric values and apply stemming on that word\n",
    "    transformed_text = [ps.stem(i) for i in text_without_punc if i.isalnum() == True]\n",
    "    \n",
    "    return \" \".join(transformed_text)"
   ]
  },
  {
   "cell_type": "code",
   "execution_count": 11,
   "id": "06c88d63",
   "metadata": {},
   "outputs": [],
   "source": [
    "# Let's Apply This Transformation Function on text column\n",
    "train_df_temp = train_df.copy()\n",
    "test_df_temp = test_df.copy()\n",
    "train_df_temp['transformed_content'] = train_df_temp['text'].apply(text_preprocessing)\n",
    "test_df_temp['transformed_content'] = test_df_temp['text'].apply(text_preprocessing)"
   ]
  },
  {
   "cell_type": "code",
   "execution_count": 12,
   "id": "515d0bc7",
   "metadata": {},
   "outputs": [],
   "source": [
    "# define a function that removes HTML tags\n",
    "def remove_HTML(text):\n",
    "    text = re.sub(r'<.*?>', '', text)\n",
    "    return text\n",
    "\n",
    "# remove HTML tags\n",
    "train_df_temp['transformed_content'] = train_df_temp['transformed_content'].apply(remove_HTML)\n",
    "test_df_temp['transformed_content'] = test_df_temp['transformed_content'].apply(remove_HTML)"
   ]
  },
  {
   "cell_type": "code",
   "execution_count": 13,
   "id": "af8ebeb5",
   "metadata": {},
   "outputs": [],
   "source": [
    "# define a function to remove character references (e.g., &lt;, &amp;, &nbsp;)\n",
    "def remove_references(text):\n",
    "    text = re.sub(r'&[a-zA-Z]+;?', '', text)\n",
    "    return text\n",
    "\n",
    "# remove character references\n",
    "train_df_temp['transformed_content'] = train_df_temp['transformed_content'].apply(remove_references)\n",
    "test_df_temp['transformed_content'] = test_df_temp['transformed_content'].apply(remove_references)"
   ]
  },
  {
   "cell_type": "code",
   "execution_count": 14,
   "id": "dd59b84b",
   "metadata": {},
   "outputs": [],
   "source": [
    "# define a function that removes non-printable characters\n",
    "def remove_non_printable(text):\n",
    "    text = ''.join([word for word in text if word in string.printable])\n",
    "    return text\n",
    "\n",
    "# remove non-printable characters\n",
    "train_df_temp['transformed_content'] = train_df_temp['transformed_content'].apply(remove_non_printable)\n",
    "test_df_temp['transformed_content'] = test_df_temp['transformed_content'].apply(remove_non_printable)"
   ]
  },
  {
   "cell_type": "code",
   "execution_count": 15,
   "id": "cffbc580",
   "metadata": {},
   "outputs": [],
   "source": [
    "# define a function that removes numeric values and mixtures\n",
    "def remove_num(text):\n",
    "    text = re.sub(r'\\w*\\d+\\w*', '', text)\n",
    "    return text\n",
    "\n",
    "# remove numeric values and mixtures\n",
    "train_df_temp['transformed_content'] = train_df_temp['transformed_content'].apply(remove_num)\n",
    "test_df_temp['transformed_content'] = test_df_temp['transformed_content'].apply(remove_num)"
   ]
  },
  {
   "cell_type": "code",
   "execution_count": 16,
   "id": "ae7ce9f1",
   "metadata": {},
   "outputs": [],
   "source": [
    "#These words are figured out from the below iteration of word cloud and trying to remove the unecessary high repetitive words \n",
    "#specific to the context of this text\n",
    "stop_words_cloud = ['amp','u','evacu','via','rt','damag','pkk']"
   ]
  },
  {
   "cell_type": "code",
   "execution_count": 17,
   "id": "55005683",
   "metadata": {},
   "outputs": [],
   "source": [
    "def stop_words_cloud_clean(text):\n",
    "    text = ' '.join(word for word in text.split() if word not in stop_words_cloud)\n",
    "    return text\n",
    "train_df_temp['transformed_content'] = train_df_temp['transformed_content'].apply(stop_words_cloud_clean)\n",
    "test_df_temp['transformed_content'] = test_df_temp['transformed_content'].apply(stop_words_cloud_clean)"
   ]
  },
  {
   "cell_type": "markdown",
   "id": "8bb56c3b",
   "metadata": {},
   "source": [
    "Preparing wordcloud of disaster and Not Disaster Tweets Respectively. so, it can be clearly understood which else unwanted or meaningless words are often used in both type of Tweets."
   ]
  },
  {
   "cell_type": "code",
   "execution_count": 18,
   "id": "7b4248cc",
   "metadata": {},
   "outputs": [
    {
     "data": {
      "image/png": "[encoded data removed]",
      "text/plain": [
       "<Figure size 576x432 with 1 Axes>"
      ]
     },
     "metadata": {
      "needs_background": "light"
     },
     "output_type": "display_data"
    }
   ],
   "source": [
    "# make object of wordcloud\n",
    "wc = WordCloud(background_color='white',min_font_size=10,width=500,height=500)\n",
    "\n",
    "# WordCloud for Disaster tweets\n",
    "true_news_wc = wc.generate(train_df_temp[train_df_temp['target'] == 1]['transformed_content'].str.cat(sep=\" \"))\n",
    "plt.figure(figsize=(8,6))\n",
    "plt.imshow(true_news_wc)\n",
    "plt.show()"
   ]
  },
  {
   "cell_type": "code",
   "execution_count": 19,
   "id": "6cc441ff",
   "metadata": {},
   "outputs": [
    {
     "data": {
      "image/png": "[encoded data removed]",
      "text/plain": [
       "<Figure size 576x432 with 1 Axes>"
      ]
     },
     "metadata": {
      "needs_background": "light"
     },
     "output_type": "display_data"
    }
   ],
   "source": [
    "# WordCloud for Non-Disaster tweets\n",
    "true_news_wc = wc.generate(train_df_temp[train_df_temp['target'] == 0]['transformed_content'].str.cat(sep=\" \"))\n",
    "plt.figure(figsize=(8,6))\n",
    "plt.imshow(true_news_wc)\n",
    "plt.show()"
   ]
  },
  {
   "cell_type": "code",
   "execution_count": 20,
   "id": "e742f039",
   "metadata": {},
   "outputs": [],
   "source": [
    "# Define function to lemmatize each word with its POS tag, this is similar to Wordnet approach but with using Parts of speech tagging, these can be extended using with spacy or gensim as well\n",
    " \n",
    "def pos_tagger(sentence):\n",
    "    sent = TextBlob(sentence)\n",
    "    tag_dict = {\"J\": 'a', \"N\": 'n', \"V\": 'v', \"R\": 'r'}\n",
    "    words_tags = [(w, tag_dict.get(pos[0], 'n')) for w, pos in sent.tags]   \n",
    "    lemma_list = [wd.lemmatize(tag) for wd, tag in words_tags]\n",
    "    return lemma_list"
   ]
  },
  {
   "cell_type": "code",
   "execution_count": 21,
   "id": "4ceb9efa",
   "metadata": {},
   "outputs": [],
   "source": [
    "# lemma_train = []\n",
    "# lemma_test = []\n",
    "\n",
    "# # Lemmatize the train and test transformed data\n",
    "# for i in range(0,len(train_df_temp['transformed_content'])):\n",
    "#     lemma_list_train = pos_tagger(train_df_temp['transformed_content'][i])\n",
    "#     lemmatized_sentence_train = \" \".join(lemma_list_train)\n",
    "#     lemma_train.append(lemmatized_sentence_train)\n",
    "    \n",
    "# for j in range(0,len(test_df_temp['transformed_content'])):\n",
    "#     lemma_list_test = pos_tagger(test_df_temp['transformed_content'][j])\n",
    "#     lemmatized_sentence_test = \" \".join(lemma_list_test)\n",
    "#     lemma_test.append(lemmatized_sentence_test)\n",
    "\n",
    "# lemmatize the text\n",
    "# load the model\n",
    "nlp = spacy.load('en_core_web_sm')\n",
    "train_df_temp['transformed_content'] = train_df_temp['transformed_content'].apply(lambda x:' '.join([t.lemma_ for t in nlp(x)]))\n",
    "test_df_temp['transformed_content'] = test_df_temp['transformed_content'].apply(lambda x:' '.join([t.lemma_ for t in nlp(x)]))"
   ]
  },
  {
   "cell_type": "code",
   "execution_count": null,
   "id": "9a8fbaa4",
   "metadata": {},
   "outputs": [],
   "source": [
    "# #Let us see if we can do an spell check using one of the pre worked python library named as pyspell checker.Pausing this for later clean up\n",
    "\n",
    "# spell  = SpellChecker()\n",
    "\n",
    "# def spell_check(x):\n",
    "#     correct_word = []\n",
    "#     mispelled_word = x.split()\n",
    "#     for word in mispelled_word:\n",
    "#         correct_word.append(spell.correction(word))\n",
    "# #     return ' '.join(map(correct_word))\n",
    "#         return ''.join([str(x) for x in map(correct_word, x.split())])"
   ]
  },
  {
   "cell_type": "markdown",
   "id": "b9113848",
   "metadata": {},
   "source": [
    "### Bag of words model"
   ]
  },
  {
   "cell_type": "code",
   "execution_count": 22,
   "id": "a832d834",
   "metadata": {},
   "outputs": [
    {
     "name": "stdout",
     "output_type": "stream",
     "text": [
      "Creating the bag of words...\n",
      "\n"
     ]
    }
   ],
   "source": [
    "print(\"Creating the bag of words...\\n\")\n",
    "from sklearn.feature_extraction.text import CountVectorizer\n",
    "\n",
    "# Initialize the \"CountVectorizer\" object, which is scikit-learn's\n",
    "# bag of words tool.  \n",
    "vectorizer = CountVectorizer(analyzer = \"word\",   \\\n",
    "                             tokenizer = None,    \\\n",
    "                             preprocessor = None, \\\n",
    "                             stop_words = None,   \\\n",
    "                             max_features = 5000) \n",
    "\n",
    "# fit_transform() does two functions: First, it fits the model\n",
    "# and learns the vocabulary; second, it transforms our training data\n",
    "# into feature vectors. The input to fit_transform should be a list of \n",
    "# strings.\n",
    "train_data_features = vectorizer.fit_transform(train_df_temp['transformed_content'])\n",
    "\n",
    "# Numpy arrays are easy to work with, so convert the result to an \n",
    "# array\n",
    "train_data_features = train_data_features.toarray()"
   ]
  },
  {
   "cell_type": "code",
   "execution_count": 23,
   "id": "c22065df",
   "metadata": {},
   "outputs": [
    {
     "name": "stdout",
     "output_type": "stream",
     "text": [
      "(7613, 5000)\n"
     ]
    }
   ],
   "source": [
    "print(train_data_features.shape)\n",
    "# Take a look at the words in the vocabulary\n",
    "vocab = vectorizer.get_feature_names()"
   ]
  },
  {
   "cell_type": "code",
   "execution_count": 24,
   "id": "7df071a7",
   "metadata": {},
   "outputs": [],
   "source": [
    "# Let's Separate our Input and Output Columns\n",
    "X = train_df_temp['transformed_content'].values\n",
    "y = train_df_temp['target'].values\n",
    "\n",
    "# let's do Train Test Split of Our Data\n",
    "from sklearn.model_selection import train_test_split\n",
    "\n",
    "X_train,X_test,y_train,y_test = train_test_split(X,y,test_size=0.2,random_state=42,stratify=y)\n",
    "\n",
    "# Now Let's Do Vectorization of Transformed Content Using Bag of Words Technique\n",
    "from sklearn.feature_extraction.text import CountVectorizer\n",
    "\n",
    "# create object of CountVectorizer\n",
    "cf = CountVectorizer(max_features=5000)"
   ]
  },
  {
   "cell_type": "code",
   "execution_count": 25,
   "id": "9af2f0bc",
   "metadata": {},
   "outputs": [],
   "source": [
    "# Convert X_train and Y_train into Vevtors\n",
    "X_trf =  cf.fit_transform(X).toarray()\n",
    "X_train = cf.fit_transform(X_train).toarray()\n",
    "X_test = cf.transform(X_test).toarray()"
   ]
  },
  {
   "cell_type": "code",
   "execution_count": 26,
   "id": "1fadf8a0",
   "metadata": {},
   "outputs": [],
   "source": [
    "# Function to Find Best Model and Parameters of that Model.\n",
    "def check_model(X,y):\n",
    "    algos = {\n",
    "        'lgr':{\n",
    "            'model':LogisticRegression(),\n",
    "            'params':{\n",
    "#                 'C':[0.1,0.01,1,0.5,2,10,20]\n",
    "            }\n",
    "        },\n",
    "        'mnb':{\n",
    "            'model':MultinomialNB(),\n",
    "            'params':{  \n",
    "            }\n",
    "        },\n",
    "        'rf':{\n",
    "            'model' :RandomForestClassifier(),\n",
    "            'params':{  \n",
    "            }   \n",
    "        },\n",
    "        'dtc':{\n",
    "             'model':DecisionTreeClassifier(),\n",
    "             'params':{\n",
    "             }\n",
    "        },\n",
    "        'knc':{\n",
    "             'model':KNeighborsClassifier(),\n",
    "             'params':{\n",
    "                    'n_jobs=-1'\n",
    "             }\n",
    "        },\n",
    "        'gbc':{\n",
    "             'model':GradientBoostingClassifier(),\n",
    "             'params':{\n",
    "             }\n",
    "        }\n",
    "    }\n",
    "    \n",
    "    score = []\n",
    "    \n",
    "    for model_name,config in algos.items():\n",
    "        cv = ShuffleSplit(n_splits=5,test_size=0.2,random_state=42)\n",
    "        gd = GridSearchCV(estimator=config['model'],param_grid=config['params'],n_jobs=-1,cv=cv)\n",
    "        gd.fit(X,y)\n",
    "        score.append({'model_name':model_name,'acc_score':gd.best_score_,'best_params':gd.best_params_})\n",
    "        \n",
    "    return pd.DataFrame(score)"
   ]
  },
  {
   "cell_type": "code",
   "execution_count": 28,
   "id": "85b607cf",
   "metadata": {},
   "outputs": [],
   "source": [
    "# Let's Evaluate Model\n",
    "def model_evaluation(model,X_train,X_test,y_train,y_test):\n",
    "    model.fit(X_train,y_train)\n",
    "    train_pred = model.predict(X_train)\n",
    "    test_pred = model.predict(X_test)\n",
    "    train_acc = accuracy_score(y_train,train_pred)\n",
    "    test_acc = accuracy_score(y_test,test_pred)\n",
    "    \n",
    "    train_score = pd.Series({'accuracy_score':accuracy_score(y_train,train_pred),'precision_score':precision_score(y_train,train_pred)})\n",
    "    test_score = pd.Series({'accuracy_score':accuracy_score(y_test,test_pred),'precision_score':precision_score(y_test,test_pred)})\n",
    "    scorecard = pd.concat([train_score,test_score],axis=1)\n",
    "    \n",
    "    scorecard.columns = ['Train_data','Test_data']\n",
    "    \n",
    "    return scorecard"
   ]
  },
  {
   "cell_type": "code",
   "execution_count": 29,
   "id": "7c547126",
   "metadata": {},
   "outputs": [
    {
     "data": {
      "text/html": [
       "<div>\n",
       "<style scoped>\n",
       "    .dataframe tbody tr th:only-of-type {\n",
       "        vertical-align: middle;\n",
       "    }\n",
       "\n",
       "    .dataframe tbody tr th {\n",
       "        vertical-align: top;\n",
       "    }\n",
       "\n",
       "    .dataframe thead th {\n",
       "        text-align: right;\n",
       "    }\n",
       "</style>\n",
       "<table border=\"1\" class=\"dataframe\">\n",
       "  <thead>\n",
       "    <tr style=\"text-align: right;\">\n",
       "      <th></th>\n",
       "      <th>Train_data</th>\n",
       "      <th>Test_data</th>\n",
       "    </tr>\n",
       "  </thead>\n",
       "  <tbody>\n",
       "    <tr>\n",
       "      <th>accuracy_score</th>\n",
       "      <td>0.918555</td>\n",
       "      <td>0.804334</td>\n",
       "    </tr>\n",
       "    <tr>\n",
       "      <th>precision_score</th>\n",
       "      <td>0.949555</td>\n",
       "      <td>0.797659</td>\n",
       "    </tr>\n",
       "  </tbody>\n",
       "</table>\n",
       "</div>"
      ],
      "text/plain": [
       "                 Train_data  Test_data\n",
       "accuracy_score     0.918555   0.804334\n",
       "precision_score    0.949555   0.797659"
      ]
     },
     "execution_count": 29,
     "metadata": {},
     "output_type": "execute_result"
    }
   ],
   "source": [
    "model_evaluation(LogisticRegression(),X_train,X_test,y_train,y_test)"
   ]
  },
  {
   "cell_type": "code",
   "execution_count": 30,
   "id": "f291ed86",
   "metadata": {},
   "outputs": [
    {
     "data": {
      "text/html": [
       "<div>\n",
       "<style scoped>\n",
       "    .dataframe tbody tr th:only-of-type {\n",
       "        vertical-align: middle;\n",
       "    }\n",
       "\n",
       "    .dataframe tbody tr th {\n",
       "        vertical-align: top;\n",
       "    }\n",
       "\n",
       "    .dataframe thead th {\n",
       "        text-align: right;\n",
       "    }\n",
       "</style>\n",
       "<table border=\"1\" class=\"dataframe\">\n",
       "  <thead>\n",
       "    <tr style=\"text-align: right;\">\n",
       "      <th></th>\n",
       "      <th>Train_data</th>\n",
       "      <th>Test_data</th>\n",
       "    </tr>\n",
       "  </thead>\n",
       "  <tbody>\n",
       "    <tr>\n",
       "      <th>accuracy_score</th>\n",
       "      <td>0.864204</td>\n",
       "      <td>0.815496</td>\n",
       "    </tr>\n",
       "    <tr>\n",
       "      <th>precision_score</th>\n",
       "      <td>0.873228</td>\n",
       "      <td>0.813445</td>\n",
       "    </tr>\n",
       "  </tbody>\n",
       "</table>\n",
       "</div>"
      ],
      "text/plain": [
       "                 Train_data  Test_data\n",
       "accuracy_score     0.864204   0.815496\n",
       "precision_score    0.873228   0.813445"
      ]
     },
     "execution_count": 30,
     "metadata": {},
     "output_type": "execute_result"
    }
   ],
   "source": [
    "model_evaluation(MultinomialNB(),X_train,X_test,y_train,y_test)"
   ]
  },
  {
   "cell_type": "code",
   "execution_count": 31,
   "id": "bdce73ae",
   "metadata": {},
   "outputs": [
    {
     "data": {
      "text/html": [
       "<div>\n",
       "<style scoped>\n",
       "    .dataframe tbody tr th:only-of-type {\n",
       "        vertical-align: middle;\n",
       "    }\n",
       "\n",
       "    .dataframe tbody tr th {\n",
       "        vertical-align: top;\n",
       "    }\n",
       "\n",
       "    .dataframe thead th {\n",
       "        text-align: right;\n",
       "    }\n",
       "</style>\n",
       "<table border=\"1\" class=\"dataframe\">\n",
       "  <thead>\n",
       "    <tr style=\"text-align: right;\">\n",
       "      <th></th>\n",
       "      <th>Train_data</th>\n",
       "      <th>Test_data</th>\n",
       "    </tr>\n",
       "  </thead>\n",
       "  <tbody>\n",
       "    <tr>\n",
       "      <th>accuracy_score</th>\n",
       "      <td>0.985057</td>\n",
       "      <td>0.780696</td>\n",
       "    </tr>\n",
       "    <tr>\n",
       "      <th>precision_score</th>\n",
       "      <td>0.990295</td>\n",
       "      <td>0.770270</td>\n",
       "    </tr>\n",
       "  </tbody>\n",
       "</table>\n",
       "</div>"
      ],
      "text/plain": [
       "                 Train_data  Test_data\n",
       "accuracy_score     0.985057   0.780696\n",
       "precision_score    0.990295   0.770270"
      ]
     },
     "execution_count": 31,
     "metadata": {},
     "output_type": "execute_result"
    }
   ],
   "source": [
    "model_evaluation(RandomForestClassifier(),X_train,X_test,y_train,y_test)"
   ]
  },
  {
   "cell_type": "code",
   "execution_count": 32,
   "id": "bc182841",
   "metadata": {},
   "outputs": [],
   "source": [
    "def classification(model, X, y):\n",
    "\n",
    "    model.fit(X_train, y_train)\n",
    "    y_pred = model.predict(X_test)\n",
    "    \n",
    "    print('-Classification Report-\\n')\n",
    "    print(classification_report(y_test, y_pred))\n",
    "    \n",
    "    print('Accuracy= ', accuracy_score(y_test, y_pred)*100, '%\\n')\n",
    "    \n",
    "    print('-Confusion Matrix-\\n')\n",
    "    cm=confusion_matrix(y_test, y_pred)\n",
    "    sns.heatmap(cm, annot=True, fmt='d')\n",
    "    plt.xlabel('Predicted')\n",
    "    plt.ylabel('Truth')"
   ]
  },
  {
   "cell_type": "code",
   "execution_count": 33,
   "id": "241f191f",
   "metadata": {},
   "outputs": [
    {
     "name": "stdout",
     "output_type": "stream",
     "text": [
      "-Classification Report-\n",
      "\n",
      "              precision    recall  f1-score   support\n",
      "\n",
      "           0       0.81      0.86      0.83       869\n",
      "           1       0.80      0.73      0.76       654\n",
      "\n",
      "    accuracy                           0.80      1523\n",
      "   macro avg       0.80      0.80      0.80      1523\n",
      "weighted avg       0.80      0.80      0.80      1523\n",
      "\n",
      "Accuracy=  80.4333552199606 %\n",
      "\n",
      "-Confusion Matrix-\n",
      "\n"
     ]
    },
    {
     "data": {
      "image/png": "[encoded data removed]",
      "text/plain": [
       "<Figure size 432x288 with 2 Axes>"
      ]
     },
     "metadata": {
      "needs_background": "light"
     },
     "output_type": "display_data"
    }
   ],
   "source": [
    "classification(LogisticRegression(), X, y)"
   ]
  },
  {
   "cell_type": "code",
   "execution_count": 34,
   "id": "bdc691be",
   "metadata": {},
   "outputs": [
    {
     "name": "stdout",
     "output_type": "stream",
     "text": [
      "-Classification Report-\n",
      "\n",
      "              precision    recall  f1-score   support\n",
      "\n",
      "           0       0.82      0.87      0.84       869\n",
      "           1       0.81      0.74      0.78       654\n",
      "\n",
      "    accuracy                           0.82      1523\n",
      "   macro avg       0.82      0.81      0.81      1523\n",
      "weighted avg       0.82      0.82      0.81      1523\n",
      "\n",
      "Accuracy=  81.54957321076822 %\n",
      "\n",
      "-Confusion Matrix-\n",
      "\n"
     ]
    },
    {
     "data": {
      "image/png": "[encoded data removed]",
      "text/plain": [
       "<Figure size 432x288 with 2 Axes>"
      ]
     },
     "metadata": {
      "needs_background": "light"
     },
     "output_type": "display_data"
    }
   ],
   "source": [
    "classification(MultinomialNB(), X, y)"
   ]
  },
  {
   "cell_type": "code",
   "execution_count": 35,
   "id": "6245e0c2",
   "metadata": {},
   "outputs": [
    {
     "name": "stdout",
     "output_type": "stream",
     "text": [
      "-Classification Report-\n",
      "\n",
      "              precision    recall  f1-score   support\n",
      "\n",
      "           0       0.79      0.87      0.83       869\n",
      "           1       0.80      0.69      0.74       654\n",
      "\n",
      "    accuracy                           0.79      1523\n",
      "   macro avg       0.79      0.78      0.78      1523\n",
      "weighted avg       0.79      0.79      0.79      1523\n",
      "\n",
      "Accuracy=  79.12015758371635 %\n",
      "\n",
      "-Confusion Matrix-\n",
      "\n"
     ]
    },
    {
     "data": {
      "image/png": "[encoded data removed]",
      "text/plain": [
       "<Figure size 432x288 with 2 Axes>"
      ]
     },
     "metadata": {
      "needs_background": "light"
     },
     "output_type": "display_data"
    }
   ],
   "source": [
    "classification(RandomForestClassifier(n_estimators = 100, criterion = 'entropy' , random_state = 0), X, y)"
   ]
  },
  {
   "cell_type": "markdown",
   "id": "bfc8a7c8",
   "metadata": {},
   "source": [
    "### Here, seems like the MultinomialNB is showing better accuracy results but if we consider the TN cases which might be of our more importance , random forest is showing up with 449 cases which is the least of the classifier models we have run as above.\n",
    "### We will next continue to use n-gram techniques and convert to TF-IDF features which would give us more scope of features for the given training data set and re-run all these models again to see the results"
   ]
  },
  {
   "cell_type": "markdown",
   "id": "19816df4",
   "metadata": {},
   "source": [
    "### TASK 2 - Feature generation and traditional ML model\n",
    "☐\n",
    "You will now use TF-IDF to generate features for your dataset. Moreover, you can feel \n",
    "free to create any other set of features (unigram, bigram, trigram, etc). \n",
    "☐ With the features you have created, select any traditional (non-neural network) model \n",
    "to train a model and provide plots on the evaluation. \n",
    "☐ \n",
    "Explain all of your choices. \n",
    "Note: the model performance will not necessarily be judged, however the choice of \n",
    "which model and why it was selected, based on the features generated will need to be \n",
    "explained."
   ]
  },
  {
   "cell_type": "code",
   "execution_count": 144,
   "id": "8fe165d1",
   "metadata": {},
   "outputs": [],
   "source": [
    "unigram = []\n",
    "bigram = []\n",
    "\n",
    "for i in range(0,len(train_df_temp)):\n",
    "    sentence = train_df_temp['transformed_content'][i].lower()\n",
    "    unigram.append(sentence)\n",
    "    \n",
    "    a = \"\"\n",
    "    for j in range(0,(len(sentence.split())-1)):\n",
    "        empty = sentence.split()[j]+\"_\"+sentence.split()[j+1]\n",
    "        a = a+\" \"+empty\n",
    "    a = a.strip()\n",
    "    bigram.append(a)\n",
    "    \n",
    "data = [str(bigram[i])+\" \"+str(unigram[i]) for i in range(len(bigram))]\n",
    "\n",
    "n_features = 5000\n",
    "\n",
    "# tf or count matrix\n",
    "tf_vectorizer = CountVectorizer(max_df=0.95, min_df=8, max_features=n_features, stop_words='english')\n",
    "tf = tf_vectorizer.fit_transform(data)\n",
    "tf_feature_names = tf_vectorizer.get_feature_names()\n",
    "\n",
    "# tf-idf matrix\n",
    "tfidf_vectorizer = TfidfVectorizer(max_df=0.95, min_df=8, max_features=n_features, stop_words='english')\n",
    "tfidf = tfidf_vectorizer.fit_transform(data)\n",
    "tfidf_feature_names = tfidf_vectorizer.get_feature_names()\n",
    "\n",
    "##We can also check for different topics coming out using the above uni and bi gram features\n",
    "# n_topics = 8 #input(\"No of topics:\")\n",
    "\n",
    "# nmf = NMF(n_components=n_topics,random_state=1,alpha=.1,l1_ratio=.5,init='nndsvd')\n",
    "# nmf = nmf.fit(tfidf)\n",
    "\n",
    "# lda = LatentDirichletAllocation(n_topics=n_topics, max_iter=5, learning_method='online', learning_offset=50.,random_state=0)\n",
    "# lda = lda.fit(tf)"
   ]
  },
  {
   "cell_type": "code",
   "execution_count": 148,
   "id": "fbf17f8d",
   "metadata": {},
   "outputs": [],
   "source": [
    "unigram_test = []\n",
    "bigram_test = []\n",
    "\n",
    "for i in range(0,len(test_df_temp)):\n",
    "    sentence_test = test_df_temp['transformed_content'][i].lower()\n",
    "    unigram_test.append(sentence_test)\n",
    "    \n",
    "    a = \"\"\n",
    "    for j in range(0,(len(sentence_test.split())-1)):\n",
    "        empty = sentence_test.split()[j]+\"_\"+sentence_test.split()[j+1]\n",
    "        a = a+\" \"+empty\n",
    "    a = a.strip()\n",
    "    bigram_test.append(a)\n",
    "    \n",
    "data_test = [str(bigram_test[i])+\" \"+str(bigram_test[i]) for i in range(len(bigram_test))]\n",
    "\n",
    "n_features = 1000\n",
    "\n",
    "# tf or count matrix\n",
    "tf_vectorizer = CountVectorizer(max_df=0.95, min_df=8, max_features=n_features, stop_words='english')\n",
    "tf_test = tf_vectorizer.fit_transform(data_test)\n",
    "tf_feature_names_test = tf_vectorizer.get_feature_names()\n",
    "\n",
    "# tf-idf matrix\n",
    "tfidf_vectorizer = TfidfVectorizer(max_df=0.95, min_df=8, max_features=n_features, stop_words='english')\n",
    "tfidf_test = tfidf_vectorizer.fit_transform(data)\n",
    "tfidf_feature_names_test = tfidf_vectorizer.get_feature_names()\n",
    "\n",
    "##We can also check for different topics coming out using the above uni and bi gram features\n",
    "# n_topics = 8 #input(\"No of topics:\")\n",
    "\n",
    "# nmf = NMF(n_components=n_topics,random_state=1,alpha=.1,l1_ratio=.5,init='nndsvd')\n",
    "# nmf = nmf.fit(tfidf)\n",
    "\n",
    "# lda = LatentDirichletAllocation(n_topics=n_topics, max_iter=5, learning_method='online', learning_offset=50.,random_state=0)\n",
    "# lda = lda.fit(tf)"
   ]
  },
  {
   "cell_type": "code",
   "execution_count": 134,
   "id": "ba507241",
   "metadata": {},
   "outputs": [],
   "source": [
    "tfidf_feature_names = pd.DataFrame(tfidf.toarray())\n",
    "tfidf_feature_names_test = pd.DataFrame(tfidf_test.toarray())"
   ]
  },
  {
   "cell_type": "code",
   "execution_count": 135,
   "id": "bd4373c7",
   "metadata": {},
   "outputs": [],
   "source": [
    "# create a new feature for the number of words\n",
    "train_df_temp['word_count'] = train_df_temp['text'].apply(nltk.tokenize.word_tokenize).apply(len)\n",
    "test_df_temp['word_count'] = test_df_temp['text'].apply(nltk.tokenize.word_tokenize).apply(len)"
   ]
  },
  {
   "cell_type": "code",
   "execution_count": 136,
   "id": "cef454f7",
   "metadata": {},
   "outputs": [],
   "source": [
    "# create a new feature for the number of characters excluding white spaces\n",
    "train_df_temp['char_count'] = train_df_temp['text'].apply(lambda x: len(x) - x.count(\" \"))\n",
    "test_df_temp['char_count'] = test_df_temp['text'].apply(lambda x: len(x) - x.count(\" \"))"
   ]
  },
  {
   "cell_type": "code",
   "execution_count": 168,
   "id": "5c2b9b5e",
   "metadata": {},
   "outputs": [
    {
     "data": {
      "text/plain": [
       "(7613, 11918)"
      ]
     },
     "execution_count": 168,
     "metadata": {},
     "output_type": "execute_result"
    }
   ],
   "source": [
    "# import TfidfVectorizer\n",
    "from sklearn.feature_extraction.text import TfidfVectorizer\n",
    "\n",
    "# instantiate the vectorizer\n",
    "tfidf = TfidfVectorizer()\n",
    "\n",
    "# fit and transform\n",
    "X_tfidf = tfidf.fit_transform(train_df_temp['transformed_content'])\n",
    "# create a dataframe from the sparse matrix\n",
    "X_tfidf_df = pd.DataFrame(X_tfidf.toarray())\n",
    "\n",
    "# check the dataframe\n",
    "X_tfidf_df.shape"
   ]
  },
  {
   "cell_type": "code",
   "execution_count": 175,
   "id": "355e5db7",
   "metadata": {},
   "outputs": [],
   "source": [
    "# # fit and transform\n",
    "# y_tfidf = tfidf.fit_transform(test_df_temp['transformed_content'])\n",
    "# # create a dataframe from the sparse matrix\n",
    "# y_tfidf_df = pd.DataFrame(y_tfidf.toarray())\n",
    "\n",
    "# # check the dataframe\n",
    "# y_tfidf_df.shape"
   ]
  },
  {
   "cell_type": "code",
   "execution_count": 172,
   "id": "8b466d88",
   "metadata": {},
   "outputs": [],
   "source": [
    "# fit the cleaned text to the vectorizer\n",
    "tfidf_vect_fit = tfidf.fit(train_df_temp['transformed_content'])\n",
    "\n",
    "# create the vectorized columns\n",
    "tfidf_train = tfidf_vect_fit.transform(train_df_temp['transformed_content'])\n",
    "tfidf_test = tfidf_vect_fit.transform(test_df_temp['transformed_content'])"
   ]
  },
  {
   "cell_type": "code",
   "execution_count": 176,
   "id": "bf4df289",
   "metadata": {},
   "outputs": [
    {
     "data": {
      "text/plain": [
       "(7613, 11920)"
      ]
     },
     "execution_count": 176,
     "metadata": {},
     "output_type": "execute_result"
    }
   ],
   "source": [
    "X_features = pd.concat([train_df_temp[['word_count', 'char_count']],\n",
    "                        X_tfidf_df], axis=1)\n",
    "X_features.shape"
   ]
  },
  {
   "cell_type": "code",
   "execution_count": 181,
   "id": "fc2a1f6b",
   "metadata": {},
   "outputs": [
    {
     "data": {
      "text/plain": [
       "(3263, 11920)"
      ]
     },
     "execution_count": 181,
     "metadata": {},
     "output_type": "execute_result"
    }
   ],
   "source": [
    "y_tfidf_df = pd.DataFrame(tfidf_test.toarray())\n",
    "y_features = pd.concat([test_df_temp[['word_count', 'char_count']],\n",
    "                        y_tfidf_df], axis=1)\n",
    "y_features.shape"
   ]
  },
  {
   "cell_type": "code",
   "execution_count": 185,
   "id": "442e1f60",
   "metadata": {},
   "outputs": [],
   "source": [
    "X_tfidf = X_features\n",
    "y_tfidf = train_df_temp['target']\n",
    "\n",
    "X_train, X_test, y_train, y_test = train_test_split(X_tfidf, y_tfidf, test_size=0.2, random_state=12345)"
   ]
  },
  {
   "cell_type": "code",
   "execution_count": 186,
   "id": "eec2cafc",
   "metadata": {},
   "outputs": [
    {
     "data": {
      "text/html": [
       "<div>\n",
       "<style scoped>\n",
       "    .dataframe tbody tr th:only-of-type {\n",
       "        vertical-align: middle;\n",
       "    }\n",
       "\n",
       "    .dataframe tbody tr th {\n",
       "        vertical-align: top;\n",
       "    }\n",
       "\n",
       "    .dataframe thead th {\n",
       "        text-align: right;\n",
       "    }\n",
       "</style>\n",
       "<table border=\"1\" class=\"dataframe\">\n",
       "  <thead>\n",
       "    <tr style=\"text-align: right;\">\n",
       "      <th></th>\n",
       "      <th>Train_data</th>\n",
       "      <th>Test_data</th>\n",
       "    </tr>\n",
       "  </thead>\n",
       "  <tbody>\n",
       "    <tr>\n",
       "      <th>accuracy_score</th>\n",
       "      <td>0.873235</td>\n",
       "      <td>0.804990</td>\n",
       "    </tr>\n",
       "    <tr>\n",
       "      <th>precision_score</th>\n",
       "      <td>0.922725</td>\n",
       "      <td>0.818018</td>\n",
       "    </tr>\n",
       "  </tbody>\n",
       "</table>\n",
       "</div>"
      ],
      "text/plain": [
       "                 Train_data  Test_data\n",
       "accuracy_score     0.873235   0.804990\n",
       "precision_score    0.922725   0.818018"
      ]
     },
     "execution_count": 186,
     "metadata": {},
     "output_type": "execute_result"
    }
   ],
   "source": [
    "model_evaluation(LogisticRegression(),X_train,X_test,y_train,y_test)"
   ]
  },
  {
   "cell_type": "code",
   "execution_count": 187,
   "id": "b4761685",
   "metadata": {},
   "outputs": [
    {
     "data": {
      "text/html": [
       "<div>\n",
       "<style scoped>\n",
       "    .dataframe tbody tr th:only-of-type {\n",
       "        vertical-align: middle;\n",
       "    }\n",
       "\n",
       "    .dataframe tbody tr th {\n",
       "        vertical-align: top;\n",
       "    }\n",
       "\n",
       "    .dataframe thead th {\n",
       "        text-align: right;\n",
       "    }\n",
       "</style>\n",
       "<table border=\"1\" class=\"dataframe\">\n",
       "  <thead>\n",
       "    <tr style=\"text-align: right;\">\n",
       "      <th></th>\n",
       "      <th>Train_data</th>\n",
       "      <th>Test_data</th>\n",
       "    </tr>\n",
       "  </thead>\n",
       "  <tbody>\n",
       "    <tr>\n",
       "      <th>accuracy_score</th>\n",
       "      <td>0.866338</td>\n",
       "      <td>0.793171</td>\n",
       "    </tr>\n",
       "    <tr>\n",
       "      <th>precision_score</th>\n",
       "      <td>0.952429</td>\n",
       "      <td>0.851153</td>\n",
       "    </tr>\n",
       "  </tbody>\n",
       "</table>\n",
       "</div>"
      ],
      "text/plain": [
       "                 Train_data  Test_data\n",
       "accuracy_score     0.866338   0.793171\n",
       "precision_score    0.952429   0.851153"
      ]
     },
     "execution_count": 187,
     "metadata": {},
     "output_type": "execute_result"
    }
   ],
   "source": [
    "model_evaluation(MultinomialNB(),X_train,X_test,y_train,y_test)"
   ]
  },
  {
   "cell_type": "code",
   "execution_count": 188,
   "id": "4c0f978f",
   "metadata": {},
   "outputs": [],
   "source": [
    "final_model_fit = MultinomialNB()\n",
    "final_model_fit.fit(X_train,y_train)\n",
    "final_model = final_model_fit.predict(y_features)"
   ]
  },
  {
   "cell_type": "code",
   "execution_count": 190,
   "id": "fb5058b6",
   "metadata": {},
   "outputs": [],
   "source": [
    "# create a dataframe for submission\n",
    "submission = test_df[['id']].reset_index(drop=True)\n",
    "submission['target'] = final_model.astype('int64')"
   ]
  },
  {
   "cell_type": "code",
   "execution_count": 192,
   "id": "da496ec1",
   "metadata": {},
   "outputs": [
    {
     "data": {
      "text/plain": [
       "0    2294\n",
       "1     969\n",
       "Name: target, dtype: int64"
      ]
     },
     "execution_count": 192,
     "metadata": {},
     "output_type": "execute_result"
    }
   ],
   "source": [
    "submission['target'].value_counts()"
   ]
  },
  {
   "cell_type": "markdown",
   "id": "79348b3c",
   "metadata": {},
   "source": [
    "#### Classify with the random forest classifier since tree based models are much more clear and the explainability of the model can be more transparent as well as bias-variance conditions can be taken care by tree based algo itself"
   ]
  },
  {
   "cell_type": "code",
   "execution_count": 51,
   "id": "8c6a1bea",
   "metadata": {},
   "outputs": [
    {
     "data": {
      "text/html": [
       "<div>\n",
       "<style scoped>\n",
       "    .dataframe tbody tr th:only-of-type {\n",
       "        vertical-align: middle;\n",
       "    }\n",
       "\n",
       "    .dataframe tbody tr th {\n",
       "        vertical-align: top;\n",
       "    }\n",
       "\n",
       "    .dataframe thead th {\n",
       "        text-align: right;\n",
       "    }\n",
       "</style>\n",
       "<table border=\"1\" class=\"dataframe\">\n",
       "  <thead>\n",
       "    <tr style=\"text-align: right;\">\n",
       "      <th></th>\n",
       "      <th>Train_data</th>\n",
       "      <th>Test_data</th>\n",
       "    </tr>\n",
       "  </thead>\n",
       "  <tbody>\n",
       "    <tr>\n",
       "      <th>accuracy_score</th>\n",
       "      <td>0.988998</td>\n",
       "      <td>0.792515</td>\n",
       "    </tr>\n",
       "    <tr>\n",
       "      <th>precision_score</th>\n",
       "      <td>0.991154</td>\n",
       "      <td>0.830040</td>\n",
       "    </tr>\n",
       "  </tbody>\n",
       "</table>\n",
       "</div>"
      ],
      "text/plain": [
       "                 Train_data  Test_data\n",
       "accuracy_score     0.988998   0.792515\n",
       "precision_score    0.991154   0.830040"
      ]
     },
     "execution_count": 51,
     "metadata": {},
     "output_type": "execute_result"
    }
   ],
   "source": [
    "model_evaluation(RandomForestClassifier(),X_train,X_test,y_train,y_test)"
   ]
  },
  {
   "cell_type": "code",
   "execution_count": 52,
   "id": "c3cd47ba",
   "metadata": {},
   "outputs": [
    {
     "data": {
      "text/html": [
       "<div>\n",
       "<style scoped>\n",
       "    .dataframe tbody tr th:only-of-type {\n",
       "        vertical-align: middle;\n",
       "    }\n",
       "\n",
       "    .dataframe tbody tr th {\n",
       "        vertical-align: top;\n",
       "    }\n",
       "\n",
       "    .dataframe thead th {\n",
       "        text-align: right;\n",
       "    }\n",
       "</style>\n",
       "<table border=\"1\" class=\"dataframe\">\n",
       "  <thead>\n",
       "    <tr style=\"text-align: right;\">\n",
       "      <th></th>\n",
       "      <th>Train_data</th>\n",
       "      <th>Test_data</th>\n",
       "    </tr>\n",
       "  </thead>\n",
       "  <tbody>\n",
       "    <tr>\n",
       "      <th>accuracy_score</th>\n",
       "      <td>0.784565</td>\n",
       "      <td>0.744583</td>\n",
       "    </tr>\n",
       "    <tr>\n",
       "      <th>precision_score</th>\n",
       "      <td>0.930309</td>\n",
       "      <td>0.867606</td>\n",
       "    </tr>\n",
       "  </tbody>\n",
       "</table>\n",
       "</div>"
      ],
      "text/plain": [
       "                 Train_data  Test_data\n",
       "accuracy_score     0.784565   0.744583\n",
       "precision_score    0.930309   0.867606"
      ]
     },
     "execution_count": 52,
     "metadata": {},
     "output_type": "execute_result"
    }
   ],
   "source": [
    "model_evaluation(GradientBoostingClassifier(),X_train,X_test,y_train,y_test)"
   ]
  },
  {
   "cell_type": "code",
   "execution_count": 53,
   "id": "b0c1544b",
   "metadata": {},
   "outputs": [],
   "source": [
    "def classification(model, X, y):\n",
    "\n",
    "    model.fit(X_train, y_train)\n",
    "    y_pred = model.predict(X_test)\n",
    "    \n",
    "    print('-Classification Report-\\n')\n",
    "    print(classification_report(y_test, y_pred))\n",
    "    \n",
    "    print('Accuracy= ', accuracy_score(y_test, y_pred)*100, '%\\n')\n",
    "    \n",
    "    print('-Confusion Matrix-\\n')\n",
    "    cm=confusion_matrix(y_test, y_pred)\n",
    "    sns.heatmap(cm, annot=True, fmt='d')\n",
    "    plt.xlabel('Predicted')\n",
    "    plt.ylabel('Truth')"
   ]
  },
  {
   "cell_type": "code",
   "execution_count": 54,
   "id": "0caff4f3",
   "metadata": {},
   "outputs": [
    {
     "name": "stdout",
     "output_type": "stream",
     "text": [
      "-Classification Report-\n",
      "\n",
      "              precision    recall  f1-score   support\n",
      "\n",
      "           0       0.80      0.86      0.83       873\n",
      "           1       0.79      0.71      0.75       650\n",
      "\n",
      "    accuracy                           0.80      1523\n",
      "   macro avg       0.80      0.79      0.79      1523\n",
      "weighted avg       0.80      0.80      0.80      1523\n",
      "\n",
      "Accuracy=  79.71109652002626 %\n",
      "\n",
      "-Confusion Matrix-\n",
      "\n"
     ]
    },
    {
     "data": {
      "image/png": "[encoded data removed]",
      "text/plain": [
       "<Figure size 432x288 with 2 Axes>"
      ]
     },
     "metadata": {
      "needs_background": "light"
     },
     "output_type": "display_data"
    }
   ],
   "source": [
    "classification(LogisticRegression(), X, y)"
   ]
  },
  {
   "cell_type": "code",
   "execution_count": 55,
   "id": "59c8d4eb",
   "metadata": {},
   "outputs": [
    {
     "name": "stdout",
     "output_type": "stream",
     "text": [
      "-Classification Report-\n",
      "\n",
      "              precision    recall  f1-score   support\n",
      "\n",
      "           0       0.72      0.80      0.76       873\n",
      "           1       0.69      0.59      0.64       650\n",
      "\n",
      "    accuracy                           0.71      1523\n",
      "   macro avg       0.71      0.70      0.70      1523\n",
      "weighted avg       0.71      0.71      0.71      1523\n",
      "\n",
      "Accuracy=  71.24097176625082 %\n",
      "\n",
      "-Confusion Matrix-\n",
      "\n"
     ]
    },
    {
     "data": {
      "image/png": "[encoded data removed]",
      "text/plain": [
       "<Figure size 432x288 with 2 Axes>"
      ]
     },
     "metadata": {
      "needs_background": "light"
     },
     "output_type": "display_data"
    }
   ],
   "source": [
    "classification(DecisionTreeClassifier(criterion = 'entropy' , random_state = 0), X, y)"
   ]
  },
  {
   "cell_type": "code",
   "execution_count": 57,
   "id": "4192d0e5",
   "metadata": {},
   "outputs": [
    {
     "name": "stdout",
     "output_type": "stream",
     "text": [
      "-Classification Report-\n",
      "\n",
      "              precision    recall  f1-score   support\n",
      "\n",
      "           0       0.79      0.88      0.83       873\n",
      "           1       0.81      0.68      0.74       650\n",
      "\n",
      "    accuracy                           0.79      1523\n",
      "   macro avg       0.80      0.78      0.78      1523\n",
      "weighted avg       0.80      0.79      0.79      1523\n",
      "\n",
      "Accuracy=  79.44845699277742 %\n",
      "\n",
      "-Confusion Matrix-\n",
      "\n"
     ]
    },
    {
     "data": {
      "image/png": "[encoded data removed]",
      "text/plain": [
       "<Figure size 432x288 with 2 Axes>"
      ]
     },
     "metadata": {
      "needs_background": "light"
     },
     "output_type": "display_data"
    }
   ],
   "source": [
    "classification(MultinomialNB(), X, y)"
   ]
  },
  {
   "cell_type": "code",
   "execution_count": 56,
   "id": "ec0b6439",
   "metadata": {},
   "outputs": [
    {
     "name": "stdout",
     "output_type": "stream",
     "text": [
      "-Classification Report-\n",
      "\n",
      "              precision    recall  f1-score   support\n",
      "\n",
      "           0       0.77      0.89      0.83       873\n",
      "           1       0.82      0.63      0.71       650\n",
      "\n",
      "    accuracy                           0.78      1523\n",
      "   macro avg       0.79      0.76      0.77      1523\n",
      "weighted avg       0.79      0.78      0.78      1523\n",
      "\n",
      "Accuracy=  78.26657912015759 %\n",
      "\n",
      "-Confusion Matrix-\n",
      "\n"
     ]
    },
    {
     "data": {
      "image/png": "[encoded data removed]",
      "text/plain": [
       "<Figure size 432x288 with 2 Axes>"
      ]
     },
     "metadata": {
      "needs_background": "light"
     },
     "output_type": "display_data"
    }
   ],
   "source": [
    "classification(RandomForestClassifier(n_estimators = 100, criterion = 'entropy' , random_state = 0), X, y)"
   ]
  },
  {
   "cell_type": "code",
   "execution_count": 59,
   "id": "f9b1a7bc",
   "metadata": {},
   "outputs": [
    {
     "name": "stdout",
     "output_type": "stream",
     "text": [
      "-Classification Report-\n",
      "\n",
      "              precision    recall  f1-score   support\n",
      "\n",
      "           0       0.70      0.95      0.81       873\n",
      "           1       0.86      0.46      0.60       650\n",
      "\n",
      "    accuracy                           0.74      1523\n",
      "   macro avg       0.78      0.70      0.70      1523\n",
      "weighted avg       0.77      0.74      0.72      1523\n",
      "\n",
      "Accuracy=  73.99868680236375 %\n",
      "\n",
      "-Confusion Matrix-\n",
      "\n"
     ]
    },
    {
     "data": {
      "image/png": "[encoded data removed]",
      "text/plain": [
       "<Figure size 432x288 with 2 Axes>"
      ]
     },
     "metadata": {
      "needs_background": "light"
     },
     "output_type": "display_data"
    }
   ],
   "source": [
    "classification(GradientBoostingClassifier(n_estimators = 100, random_state = 0), X, y)"
   ]
  },
  {
   "cell_type": "markdown",
   "id": "21a204c0",
   "metadata": {},
   "source": [
    "#### Here seems like the random forest is consistently similar with increase or decrease in features, and we need to extract more features using the textual data and\n",
    "##### Logistic Regression model and Multinomial Naive Bayes and Random Forest model are close in terms of accuracy\n",
    "#### Also here with the decision classifer and random classifier we see that the True Negative cases are least i.e. 384 and 411 which means that the disaster cases prediction is much more better in terms of our use case and tuning this to avoid any cases of sparse data using various laplacian smoothing techniques etc.. will help us fine tune the results using Multinomial Naiva Bayes.\n",
    "#### Here, we should also check for ROC curve to understand the True positive rate vs False Psoitive Rate at various thresholds this would further help us to decide the fall-out criteria which helps us understand the cost-benefit analysis of the decision making in real time plus when combined with gain-lift analysis will help us decide better on the what why and which model to be chosen.\n",
    "###### Lets move to see if we are able to use glove and run much more better model accuracy."
   ]
  },
  {
   "cell_type": "markdown",
   "id": "16cf4a5d",
   "metadata": {},
   "source": [
    "### TASK 3 - Pre-trained word embeddings + linear classifier model\n",
    "☐ Select any pre-trained word embedding of your choice (i.e. Glove). \n",
    "☐ \n",
    "You will run your text inputs through the word embedding to map each input instance \n",
    "(sequence of words) to a single embedding that represents the entire sequence of \n",
    "words. It is up to you to decide how you want to do this. The only constraint is that if \n",
    "your word embedding is W-dimensional, then each of your text inputs will now be W\u0002dimensional, and hence the dataset inputs should be able to fit into a matrix of shape \n",
    "(N,W), where N is the dataset size, and W is the dimension of the word embedding. \n",
    "☐ Explain all of your choices.\n",
    "☐ \n",
    "Train a simple linear model using the embeddings as your inputs using \n",
    "sklearn.linear_model.SGDClassifier. Use whatever number of iterations it takes to train a \n",
    "model in 10 minutes MAX (don't worry, we aren't looking for accuracy here). \n",
    "☐ Report relevant metrics."
   ]
  },
  {
   "cell_type": "markdown",
   "id": "f151a01b",
   "metadata": {},
   "source": [
    "Tokenization and Text to Sequences¶\n",
    "We need to be able to map words to integers as well as integers to words.\n",
    "\n",
    "Keras provides a Tokenizer class that can be fit on the training data, can convert text to sequences consistently by calling the texts_to_sequences() method on the Tokenizer class, and provides access to the dictionary mapping of words to integers in a word_index attribute."
   ]
  },
  {
   "cell_type": "code",
   "execution_count": 60,
   "id": "1d67f050",
   "metadata": {},
   "outputs": [],
   "source": [
    "from keras.preprocessing.text import Tokenizer\n",
    "from tensorflow.keras.preprocessing.sequence import pad_sequences\n",
    "from keras.models import Sequential\n",
    "from keras.layers import Dense\n",
    "from keras.layers import Flatten\n",
    "from keras.layers import Embedding"
   ]
  },
  {
   "cell_type": "code",
   "execution_count": 61,
   "id": "250f2d0b",
   "metadata": {},
   "outputs": [],
   "source": [
    "docs = train_df_temp['transformed_content']\n",
    "labels = train_df_temp['target']"
   ]
  },
  {
   "cell_type": "code",
   "execution_count": 62,
   "id": "4c1f5474",
   "metadata": {},
   "outputs": [],
   "source": [
    "# prepare tokenizer\n",
    "tokens = Tokenizer()\n",
    "tokens.fit_on_texts(docs)\n",
    "vocab_size = len(tokens.word_index) + 1\n",
    "# integer encode the documents\n",
    "encoded_docs = tokens.texts_to_sequences(docs)\n",
    "# print(encoded_docs)"
   ]
  },
  {
   "cell_type": "code",
   "execution_count": 63,
   "id": "60fec950",
   "metadata": {},
   "outputs": [
    {
     "name": "stdout",
     "output_type": "stream",
     "text": [
      "[[  54 1283 2762    8]\n",
      " [ 564 4938 4939  991]\n",
      " [1971  370  328  424]\n",
      " ...\n",
      " [1271  435 1272    0]\n",
      " [1038  999  975   90]\n",
      " [  45   99  521   11]]\n"
     ]
    }
   ],
   "source": [
    "# pad documents to a max length of 4 words\n",
    "max_length = 4\n",
    "padded_docs = pad_sequences(encoded_docs, maxlen=max_length, padding='post')\n",
    "print(padded_docs)"
   ]
  },
  {
   "cell_type": "markdown",
   "id": "ecb4a4e2",
   "metadata": {},
   "source": [
    "#### Load GloVe Word Embedding"
   ]
  },
  {
   "cell_type": "code",
   "execution_count": 64,
   "id": "5ba1b5f7",
   "metadata": {},
   "outputs": [
    {
     "name": "stdout",
     "output_type": "stream",
     "text": [
      "Loaded 400000 word vectors.\n"
     ]
    }
   ],
   "source": [
    "from numpy import array\n",
    "from numpy import asarray\n",
    "from numpy import zeros\n",
    "\n",
    "# load the whole embedding into memory here there are many versions of glove I have randomly taken this as this is combination of \n",
    "#wikipedia which seems to be widely used in industry.\n",
    "embeddings_index = dict()\n",
    "f = open(directory + '/kaggle/glove.6B.100d.txt', 'r', encoding=\"utf-8\")\n",
    "for line in f:\n",
    "    values = line.split()\n",
    "    word = values[0]\n",
    "    coefs = asarray(values[1:], dtype='float32')\n",
    "    embeddings_index[word] = coefs\n",
    "f.close()\n",
    "print('Loaded %s word vectors.' % len(embeddings_index))"
   ]
  },
  {
   "cell_type": "markdown",
   "id": "0761afc9",
   "metadata": {},
   "source": [
    "#####Creating Embedding matrix for the words in training data\n",
    "####Next, we need to create a matrix of one embedding for each word in the training dataset. We can do that by enumerating all unique words in the Tokenizer.word_index and locating the embedding weight vector from the loaded GloVe embedding.\n",
    "The result is a matrix of weights only for words we will see during training."
   ]
  },
  {
   "cell_type": "code",
   "execution_count": 65,
   "id": "d0acd9ba",
   "metadata": {},
   "outputs": [],
   "source": [
    "# create a weight matrix for words in training docs\n",
    "embedding_matrix = zeros((vocab_size, 100))\n",
    "for word, i in tokens.word_index.items():\n",
    "    embedding_vector = embeddings_index.get(word)\n",
    "    if embedding_vector is not None:\n",
    "        embedding_matrix[i] = embedding_vector"
   ]
  },
  {
   "cell_type": "markdown",
   "id": "3aa6a873",
   "metadata": {},
   "source": [
    "Creating Model Using GloVe Embedding\n",
    "Now we can define our model, fit, and evaluate it as before.\n",
    "\n",
    "The key difference is that the embedding layer can be seeded with the GloVe word embedding weights. We chose the \n",
    "100-dimensional version, therefore the Embedding layer must be defined with output_dim set to 100."
   ]
  },
  {
   "cell_type": "code",
   "execution_count": 66,
   "id": "21f6c6d5",
   "metadata": {},
   "outputs": [
    {
     "name": "stdout",
     "output_type": "stream",
     "text": [
      "Model: \"sequential\"\n",
      "_________________________________________________________________\n",
      " Layer (type)                Output Shape              Param #   \n",
      "=================================================================\n",
      " embedding (Embedding)       (None, 4, 100)            1193800   \n",
      "                                                                 \n",
      " flatten (Flatten)           (None, 400)               0         \n",
      "                                                                 \n",
      " dense (Dense)               (None, 1)                 401       \n",
      "                                                                 \n",
      "=================================================================\n",
      "Total params: 1,194,201\n",
      "Trainable params: 401\n",
      "Non-trainable params: 1,193,800\n",
      "_________________________________________________________________\n",
      "None\n"
     ]
    }
   ],
   "source": [
    "# define model\n",
    "model = Sequential()\n",
    "e = Embedding(vocab_size, 100, weights=[embedding_matrix], input_length=4, trainable=False)\n",
    "model.add(e)\n",
    "model.add(Flatten())\n",
    "model.add(Dense(1, activation='sigmoid'))\n",
    "# compile the model\n",
    "model.compile(optimizer='adam', loss='binary_crossentropy', metrics=['accuracy'])\n",
    "# summarize the model\n",
    "print(model.summary())"
   ]
  },
  {
   "cell_type": "code",
   "execution_count": 67,
   "id": "f6ef430b",
   "metadata": {},
   "outputs": [
    {
     "name": "stdout",
     "output_type": "stream",
     "text": [
      "Accuracy: 75.082093\n"
     ]
    }
   ],
   "source": [
    "# fit the model\n",
    "model.fit(padded_docs, labels, epochs=50, verbose=0)\n",
    "# evaluate the model\n",
    "loss, accuracy = model.evaluate(padded_docs, labels, verbose=0)\n",
    "print('Accuracy: %f' % (accuracy*100))"
   ]
  },
  {
   "cell_type": "markdown",
   "id": "6a5385e2",
   "metadata": {},
   "source": [
    "#### Let us try with SGD classifier in order to check if these embeddings are helpful for prediction of the tweets data."
   ]
  },
  {
   "cell_type": "code",
   "execution_count": 68,
   "id": "67a93a9e",
   "metadata": {},
   "outputs": [],
   "source": [
    "x = pd.DataFrame(padded_docs)\n",
    "y = labels"
   ]
  },
  {
   "cell_type": "code",
   "execution_count": 69,
   "id": "f4dbc0fe",
   "metadata": {},
   "outputs": [],
   "source": [
    "xtrain, xtest, ytrain, ytest = train_test_split(x, y, test_size = 0.2)"
   ]
  },
  {
   "cell_type": "markdown",
   "id": "cc2a0beb",
   "metadata": {},
   "source": [
    "Gradient descent is generally used to minimize a cost function. Gradient descent is one of the most popular algorithms to perform optimization and by far the most common way to optimize neural networks. But in our case we can also use these kinds of algorithms to optimize our linear classifier such as Logistic Regression or svm or any other linear classifiers, so here we will try the stoachastic gradient descent alogo with an loss function as log which is an implementation for Logistic regression."
   ]
  },
  {
   "cell_type": "code",
   "execution_count": 70,
   "id": "c02a362e",
   "metadata": {},
   "outputs": [
    {
     "name": "stdout",
     "output_type": "stream",
     "text": [
      "SGDClassifier(max_iter=100, random_state=12345, tol=0.01)\n",
      "Training score:  0.4605911330049261\n",
      "[[404 458]\n",
      " [354 307]]\n",
      "              precision    recall  f1-score   support\n",
      "\n",
      "           0       0.53      0.47      0.50       862\n",
      "           1       0.40      0.46      0.43       661\n",
      "\n",
      "    accuracy                           0.47      1523\n",
      "   macro avg       0.47      0.47      0.46      1523\n",
      "weighted avg       0.48      0.47      0.47      1523\n",
      "\n"
     ]
    }
   ],
   "source": [
    "sgdc = SGDClassifier(max_iter=100, tol=0.01,random_state=12345)\n",
    "print(sgdc)\n",
    " \n",
    "sgdc.fit(xtrain, ytrain)\n",
    "\n",
    "score = sgdc.score(xtrain, ytrain)\n",
    "print(\"Training score: \", score) \n",
    "\n",
    "ypred = sgdc.predict(xtest)\n",
    "\n",
    "cm = confusion_matrix(ytest, ypred)\n",
    "print(cm) \n",
    "\n",
    "cr = classification_report(ytest, ypred)\n",
    "print(cr)"
   ]
  },
  {
   "cell_type": "code",
   "execution_count": 71,
   "id": "ec2adc68",
   "metadata": {},
   "outputs": [
    {
     "name": "stdout",
     "output_type": "stream",
     "text": [
      "Accuracy: 0.47\n"
     ]
    }
   ],
   "source": [
    "print('Accuracy: {:.2f}'.format(accuracy_score(ytest, ypred)))"
   ]
  },
  {
   "cell_type": "code",
   "execution_count": 72,
   "id": "a1835a43",
   "metadata": {},
   "outputs": [
    {
     "data": {
      "text/plain": [
       "[<matplotlib.lines.Line2D at 0x14ab9dfc7c0>]"
      ]
     },
     "execution_count": 72,
     "metadata": {},
     "output_type": "execute_result"
    },
    {
     "data": {
      "image/png": "[encoded data removed]",
      "text/plain": [
       "<Figure size 432x288 with 1 Axes>"
      ]
     },
     "metadata": {
      "needs_background": "light"
     },
     "output_type": "display_data"
    }
   ],
   "source": [
    "n_iters = [5, 10, 20, 50, 100, 1000]\n",
    "scores = []\n",
    "for n_iter in n_iters:\n",
    "    clf = SGDClassifier(loss=\"log\", penalty=\"l2\", max_iter=n_iter)\n",
    "    clf.fit(xtrain, ytrain)\n",
    "    scores.append(clf.score(xtest, ytest))\n",
    "  \n",
    "plt.title(\"Effect of n_iter\")\n",
    "plt.xlabel(\"n_iter\")\n",
    "plt.ylabel(\"score\")\n",
    "plt.plot(n_iters, scores) "
   ]
  },
  {
   "cell_type": "markdown",
   "id": "bba378c0",
   "metadata": {},
   "source": [
    "We can try out this for other linear classifiers loss functions like hinge : SVM etc and \n",
    "we can check for the accuracy improvement or in general also based on this approach we will be able to decide the model choice for the linear classifier"
   ]
  },
  {
   "cell_type": "markdown",
   "id": "718556ce",
   "metadata": {},
   "source": [
    "### Results\n",
    "|Model\t| Accuracy\t| True/Negative Cases|\n",
    "| --- | --- | --- |\t\t\n",
    "|BOW Logistic\t|80.04%\t|477|\n",
    "|BOW Multinomial naïve base\t|81.54%\t|484|\n",
    "|BOW Random forest classifier|\t78.06%\t|449|\t\n",
    "|TFIDF Logistic|\t79.71%\t|463|\n",
    "|TFIDF Multinomial naïve base\t|79.40%|\t439|\n",
    "|TFIDF Random forest classifier|79.20%\t|411|\n",
    "|TFIDF Gradient Boosting\t|74.45%|\t301|\n",
    "|TFIDF Decision Tree classifier\t|71.24%\t|384|\n"
   ]
  },
  {
   "cell_type": "markdown",
   "id": "e1718273",
   "metadata": {},
   "source": [
    "#### Here seems like the random forest is consistently similar with increase or decrease in features, and we need to extract more features using the textual data and\n",
    "##### Logistic Regression model and Multinomial Naive Bayes and Random Forest model are close in terms of accuracy\n",
    "#### Also here with the decision classifer and random classifier we see that the True Negative cases are least i.e. 384 and 411 which means that the disaster cases prediction is much more better in terms of our use case and tuning this to avoid any cases of sparse data using various laplacian smoothing techniques etc.. will help us fine tune the results using Multinomial Naiva Bayes.\n",
    "#### Here, we should also check for ROC curve to understand the True positive rate vs False Psoitive Rate at various thresholds this would further help us to decide the fall-out criteria which helps us understand the cost-benefit analysis of the decision making in real time plus when combined with gain-lift analysis will help us decide better on the what why and which model to be chosen."
   ]
  },
  {
   "cell_type": "markdown",
   "id": "1ec219d6",
   "metadata": {},
   "source": [
    "So, here in overall multinomial as well as Logistic after cleaned and TFIDF vectorization and transformation we stored those prediction test data results into submission data frame"
   ]
  },
  {
   "cell_type": "code",
   "execution_count": 203,
   "id": "0adaad44",
   "metadata": {
    "collapsed": true
   },
   "outputs": [
    {
     "data": {
      "text/html": [
       "<div>\n",
       "<style scoped>\n",
       "    .dataframe tbody tr th:only-of-type {\n",
       "        vertical-align: middle;\n",
       "    }\n",
       "\n",
       "    .dataframe tbody tr th {\n",
       "        vertical-align: top;\n",
       "    }\n",
       "\n",
       "    .dataframe thead th {\n",
       "        text-align: right;\n",
       "    }\n",
       "</style>\n",
       "<table border=\"1\" class=\"dataframe\">\n",
       "  <thead>\n",
       "    <tr style=\"text-align: right;\">\n",
       "      <th></th>\n",
       "      <th>id</th>\n",
       "      <th>keyword</th>\n",
       "      <th>location</th>\n",
       "      <th>text</th>\n",
       "      <th>target</th>\n",
       "    </tr>\n",
       "  </thead>\n",
       "  <tbody>\n",
       "    <tr>\n",
       "      <th>0</th>\n",
       "      <td>0</td>\n",
       "      <td>NaN</td>\n",
       "      <td>NaN</td>\n",
       "      <td>Just happened a terrible car crash</td>\n",
       "      <td>1</td>\n",
       "    </tr>\n",
       "    <tr>\n",
       "      <th>1</th>\n",
       "      <td>2</td>\n",
       "      <td>NaN</td>\n",
       "      <td>NaN</td>\n",
       "      <td>Heard about #earthquake is different cities, s...</td>\n",
       "      <td>0</td>\n",
       "    </tr>\n",
       "    <tr>\n",
       "      <th>2</th>\n",
       "      <td>3</td>\n",
       "      <td>NaN</td>\n",
       "      <td>NaN</td>\n",
       "      <td>there is a forest fire at spot pond, geese are...</td>\n",
       "      <td>1</td>\n",
       "    </tr>\n",
       "    <tr>\n",
       "      <th>3</th>\n",
       "      <td>9</td>\n",
       "      <td>NaN</td>\n",
       "      <td>NaN</td>\n",
       "      <td>Apocalypse lighting. #Spokane #wildfires</td>\n",
       "      <td>1</td>\n",
       "    </tr>\n",
       "    <tr>\n",
       "      <th>4</th>\n",
       "      <td>11</td>\n",
       "      <td>NaN</td>\n",
       "      <td>NaN</td>\n",
       "      <td>Typhoon Soudelor kills 28 in China and Taiwan</td>\n",
       "      <td>1</td>\n",
       "    </tr>\n",
       "    <tr>\n",
       "      <th>...</th>\n",
       "      <td>...</td>\n",
       "      <td>...</td>\n",
       "      <td>...</td>\n",
       "      <td>...</td>\n",
       "      <td>...</td>\n",
       "    </tr>\n",
       "    <tr>\n",
       "      <th>3258</th>\n",
       "      <td>10861</td>\n",
       "      <td>NaN</td>\n",
       "      <td>NaN</td>\n",
       "      <td>EARTHQUAKE SAFETY LOS ANGELES ÛÒ SAFETY FASTE...</td>\n",
       "      <td>1</td>\n",
       "    </tr>\n",
       "    <tr>\n",
       "      <th>3259</th>\n",
       "      <td>10865</td>\n",
       "      <td>NaN</td>\n",
       "      <td>NaN</td>\n",
       "      <td>Storm in RI worse than last hurricane. My city...</td>\n",
       "      <td>0</td>\n",
       "    </tr>\n",
       "    <tr>\n",
       "      <th>3260</th>\n",
       "      <td>10868</td>\n",
       "      <td>NaN</td>\n",
       "      <td>NaN</td>\n",
       "      <td>Green Line derailment in Chicago http://t.co/U...</td>\n",
       "      <td>1</td>\n",
       "    </tr>\n",
       "    <tr>\n",
       "      <th>3261</th>\n",
       "      <td>10874</td>\n",
       "      <td>NaN</td>\n",
       "      <td>NaN</td>\n",
       "      <td>MEG issues Hazardous Weather Outlook (HWO) htt...</td>\n",
       "      <td>1</td>\n",
       "    </tr>\n",
       "    <tr>\n",
       "      <th>3262</th>\n",
       "      <td>10875</td>\n",
       "      <td>NaN</td>\n",
       "      <td>NaN</td>\n",
       "      <td>#CityofCalgary has activated its Municipal Eme...</td>\n",
       "      <td>1</td>\n",
       "    </tr>\n",
       "  </tbody>\n",
       "</table>\n",
       "<p>3263 rows × 5 columns</p>\n",
       "</div>"
      ],
      "text/plain": [
       "         id keyword location  \\\n",
       "0         0     NaN      NaN   \n",
       "1         2     NaN      NaN   \n",
       "2         3     NaN      NaN   \n",
       "3         9     NaN      NaN   \n",
       "4        11     NaN      NaN   \n",
       "...     ...     ...      ...   \n",
       "3258  10861     NaN      NaN   \n",
       "3259  10865     NaN      NaN   \n",
       "3260  10868     NaN      NaN   \n",
       "3261  10874     NaN      NaN   \n",
       "3262  10875     NaN      NaN   \n",
       "\n",
       "                                                   text target  \n",
       "0                    Just happened a terrible car crash      1  \n",
       "1     Heard about #earthquake is different cities, s...      0  \n",
       "2     there is a forest fire at spot pond, geese are...      1  \n",
       "3              Apocalypse lighting. #Spokane #wildfires      1  \n",
       "4         Typhoon Soudelor kills 28 in China and Taiwan      1  \n",
       "...                                                 ...    ...  \n",
       "3258  EARTHQUAKE SAFETY LOS ANGELES ÛÒ SAFETY FASTE...      1  \n",
       "3259  Storm in RI worse than last hurricane. My city...      0  \n",
       "3260  Green Line derailment in Chicago http://t.co/U...      1  \n",
       "3261  MEG issues Hazardous Weather Outlook (HWO) htt...      1  \n",
       "3262  #CityofCalgary has activated its Municipal Eme...      1  \n",
       "\n",
       "[3263 rows x 5 columns]"
      ]
     },
     "execution_count": 203,
     "metadata": {},
     "output_type": "execute_result"
    }
   ],
   "source": [
    "submission_final = pd.concat([test_df,submission],axis=1)\n",
    "submission_final.T.drop_duplicates().T"
   ]
  },
  {
   "cell_type": "code",
   "execution_count": 215,
   "id": "6b7dc471",
   "metadata": {},
   "outputs": [],
   "source": [
    "submission_final.to_csv(directory+'/Canada_statistics/final__testsubmission_withpredictedvalues.csv',index=False)"
   ]
  },
  {
   "cell_type": "markdown",
   "id": "a737a284",
   "metadata": {},
   "source": [
    "### Further Exploration\n",
    "##### In this notebook, we've explored a limited number of algorithms, models, and hyperparameter settings. In practice we will have to check for all possible data pre-processing techniques as well as more number of features within the textual data plus some external features as i stated in the initial comments"
   ]
  },
  {
   "cell_type": "code",
   "execution_count": null,
   "id": "c749c48b",
   "metadata": {},
   "outputs": [],
   "source": []
  },
  {
   "cell_type": "code",
   "execution_count": null,
   "id": "cf3d8b20",
   "metadata": {},
   "outputs": [],
   "source": []
  },
  {
   "cell_type": "code",
   "execution_count": null,
   "id": "875fc9e2",
   "metadata": {},
   "outputs": [],
   "source": []
  },
  {
   "cell_type": "code",
   "execution_count": null,
   "id": "726bcf03",
   "metadata": {},
   "outputs": [],
   "source": []
  },
  {
   "cell_type": "code",
   "execution_count": null,
   "id": "ea50c3ac",
   "metadata": {},
   "outputs": [],
   "source": []
  }
 ],
 "metadata": {
  "kernelspec": {
   "display_name": "Python 3 (ipykernel)",
   "language": "python",
   "name": "python3"
  },
  "language_info": {
   "codemirror_mode": {
    "name": "ipython",
    "version": 3
   },
   "file_extension": ".py",
   "mimetype": "text/x-python",
   "name": "python",
   "nbconvert_exporter": "python",
   "pygments_lexer": "ipython3",
   "version": "3.9.7"
  }
 },
 "nbformat": 4,
 "nbformat_minor": 5
}
